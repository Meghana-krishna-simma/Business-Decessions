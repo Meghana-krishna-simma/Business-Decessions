{
  "cells": [
    {
      "cell_type": "markdown",
      "metadata": {
        "id": "eNIn-MPc4o0H"
      },
      "source": [
        "# All Statistice related tests"
      ]
    },
    {
      "cell_type": "markdown",
      "metadata": {
        "id": "7KrTKOJvORMF"
      },
      "source": [
        "# Moments of Business decision\n",
        "1. `Measure of central tendency`\n",
        "  1. `Mean`\n",
        "  2. `Median`\n",
        "  3. `Mode`\n",
        "2. `Measure of dispersion`\n",
        "  1. `Standard Deviation`\n",
        "  2. `variance`\n",
        "  3. `Range`\n",
        "3. `Skewness`\n",
        "4. `Kurtosis`\n"
      ]
    },
    {
      "cell_type": "code",
      "execution_count": null,
      "metadata": {
        "id": "35xtsdYIOJeX"
      },
      "outputs": [],
      "source": [
        "import scipy as sp"
      ]
    },
    {
      "cell_type": "code",
      "execution_count": null,
      "metadata": {
        "id": "kN7kHvykNpxk"
      },
      "outputs": [],
      "source": [
        "org_a = [40,50,67,78,90,100]\n",
        "org_b = [56,67,90,100,120,130]"
      ]
    },
    {
      "cell_type": "code",
      "execution_count": null,
      "metadata": {
        "colab": {
          "base_uri": "https://localhost:8080/",
          "height": 148
        },
        "id": "UD1Ebpm3OPA3",
        "outputId": "330b2df1-38c4-46ce-e51a-add4590e6073"
      },
      "outputs": [
        {
          "name": "stdout",
          "output_type": "stream",
          "text": [
            "Mean salary of organisation A is: 70.83333333333333\n",
            "Mean salary of organisation b is: 93.83333333333333\n"
          ]
        },
        {
          "name": "stderr",
          "output_type": "stream",
          "text": [
            "/usr/local/lib/python3.6/dist-packages/ipykernel_launcher.py:2: DeprecationWarning: scipy.mean is deprecated and will be removed in SciPy 2.0.0, use numpy.mean instead\n",
            "  \n",
            "/usr/local/lib/python3.6/dist-packages/ipykernel_launcher.py:3: DeprecationWarning: scipy.mean is deprecated and will be removed in SciPy 2.0.0, use numpy.mean instead\n",
            "  This is separate from the ipykernel package so we can avoid doing imports until\n"
          ]
        }
      ],
      "source": [
        "# Mean\n",
        "print(\"Mean salary of organisation A is:\", sp.mean(org_a))\n",
        "print(\"Mean salary of organisation b is:\", sp.mean(org_b))"
      ]
    },
    {
      "cell_type": "code",
      "execution_count": null,
      "metadata": {
        "colab": {
          "base_uri": "https://localhost:8080/",
          "height": 148
        },
        "id": "T4QlYh_POjGT",
        "outputId": "a209e98a-9bb1-4ea9-f5a4-ecf8143902ea"
      },
      "outputs": [
        {
          "name": "stdout",
          "output_type": "stream",
          "text": [
            "Median salary of organisation A is: 72.5\n",
            "Median salary of organisation b is: 95.0\n"
          ]
        },
        {
          "name": "stderr",
          "output_type": "stream",
          "text": [
            "/usr/local/lib/python3.6/dist-packages/ipykernel_launcher.py:2: DeprecationWarning: scipy.median is deprecated and will be removed in SciPy 2.0.0, use numpy.median instead\n",
            "  \n",
            "/usr/local/lib/python3.6/dist-packages/ipykernel_launcher.py:3: DeprecationWarning: scipy.median is deprecated and will be removed in SciPy 2.0.0, use numpy.median instead\n",
            "  This is separate from the ipykernel package so we can avoid doing imports until\n"
          ]
        }
      ],
      "source": [
        "# Median\n",
        "print(\"Median salary of organisation A is:\", sp.median(org_a))\n",
        "print(\"Median salary of organisation b is:\", sp.median(org_b))"
      ]
    },
    {
      "cell_type": "code",
      "execution_count": null,
      "metadata": {
        "id": "cfhQP7eFOunl"
      },
      "outputs": [],
      "source": [
        "org_a = [40,50,67,78,90,100]\n",
        "org_b = [56,67,90,100,120,130,2000]"
      ]
    },
    {
      "cell_type": "code",
      "execution_count": null,
      "metadata": {
        "colab": {
          "base_uri": "https://localhost:8080/",
          "height": 148
        },
        "id": "ju1TGGXCO8Aq",
        "outputId": "3bc17304-a6db-4215-8c61-3120db48fa63"
      },
      "outputs": [
        {
          "name": "stdout",
          "output_type": "stream",
          "text": [
            "Mean salary of organisation A is: 70.83333333333333\n",
            "Mean salary of organisation b is: 366.14285714285717\n"
          ]
        },
        {
          "name": "stderr",
          "output_type": "stream",
          "text": [
            "/usr/local/lib/python3.6/dist-packages/ipykernel_launcher.py:1: DeprecationWarning: scipy.mean is deprecated and will be removed in SciPy 2.0.0, use numpy.mean instead\n",
            "  \"\"\"Entry point for launching an IPython kernel.\n",
            "/usr/local/lib/python3.6/dist-packages/ipykernel_launcher.py:2: DeprecationWarning: scipy.mean is deprecated and will be removed in SciPy 2.0.0, use numpy.mean instead\n",
            "  \n"
          ]
        }
      ],
      "source": [
        "print(\"Mean salary of organisation A is:\", sp.mean(org_a))\n",
        "print(\"Mean salary of organisation b is:\", sp.mean(org_b))\n",
        "#Mean is not recommonded when you have extreme values"
      ]
    },
    {
      "cell_type": "code",
      "execution_count": null,
      "metadata": {
        "colab": {
          "base_uri": "https://localhost:8080/",
          "height": 148
        },
        "id": "EIAQprvBO-W5",
        "outputId": "3575c8df-0d18-4854-831f-a4c857d5eb37"
      },
      "outputs": [
        {
          "name": "stdout",
          "output_type": "stream",
          "text": [
            "Median salary of organisation A is: 72.5\n",
            "Median salary of organisation b is: 100.0\n"
          ]
        },
        {
          "name": "stderr",
          "output_type": "stream",
          "text": [
            "/usr/local/lib/python3.6/dist-packages/ipykernel_launcher.py:1: DeprecationWarning: scipy.median is deprecated and will be removed in SciPy 2.0.0, use numpy.median instead\n",
            "  \"\"\"Entry point for launching an IPython kernel.\n",
            "/usr/local/lib/python3.6/dist-packages/ipykernel_launcher.py:2: DeprecationWarning: scipy.median is deprecated and will be removed in SciPy 2.0.0, use numpy.median instead\n",
            "  \n"
          ]
        }
      ],
      "source": [
        "print(\"Median salary of organisation A is:\", sp.median(org_a))\n",
        "print(\"Median salary of organisation b is:\", sp.median(org_b))\n",
        "#Median is recommonded when you have extreme values"
      ]
    },
    {
      "cell_type": "code",
      "execution_count": null,
      "metadata": {
        "colab": {
          "base_uri": "https://localhost:8080/",
          "height": 54
        },
        "id": "JPh6T04gQN7a",
        "outputId": "263ab3fc-e6fc-4cbc-eba3-7403e461b070"
      },
      "outputs": [
        {
          "name": "stdout",
          "output_type": "stream",
          "text": [
            "Mode salary of organisation A is: ModeResult(mode=array([40]), count=array([1]))\n",
            "Mode salary of organisation b is: ModeResult(mode=array([56]), count=array([1]))\n"
          ]
        }
      ],
      "source": [
        "# Mode\n",
        "from scipy import stats\n",
        "print(\"Mode salary of organisation A is:\", stats.mode(org_a))\n",
        "print(\"Mode salary of organisation b is:\", stats.mode(org_b))"
      ]
    },
    {
      "cell_type": "code",
      "execution_count": null,
      "metadata": {
        "colab": {
          "base_uri": "https://localhost:8080/",
          "height": 148
        },
        "id": "BhKWdOWXQjor",
        "outputId": "150c7bfa-28c5-4f4c-ec7d-80a9616d5252"
      },
      "outputs": [
        {
          "name": "stdout",
          "output_type": "stream",
          "text": [
            "std salary of organisation A is: 21.090413830827394\n",
            "std salary of organisation b is: 667.4686570643339\n"
          ]
        },
        {
          "name": "stderr",
          "output_type": "stream",
          "text": [
            "/usr/local/lib/python3.6/dist-packages/ipykernel_launcher.py:2: DeprecationWarning: scipy.std is deprecated and will be removed in SciPy 2.0.0, use numpy.std instead\n",
            "  \n",
            "/usr/local/lib/python3.6/dist-packages/ipykernel_launcher.py:3: DeprecationWarning: scipy.std is deprecated and will be removed in SciPy 2.0.0, use numpy.std instead\n",
            "  This is separate from the ipykernel package so we can avoid doing imports until\n"
          ]
        }
      ],
      "source": [
        "# Standard deviation\n",
        "print(\"std salary of organisation A is:\", sp.std(org_a))\n",
        "print(\"std salary of organisation b is:\", sp.std(org_b))"
      ]
    },
    {
      "cell_type": "code",
      "execution_count": null,
      "metadata": {
        "colab": {
          "base_uri": "https://localhost:8080/",
          "height": 148
        },
        "id": "oBGrib2nSCko",
        "outputId": "abfa1f11-4b2a-4703-d1cb-c9467ee58fc0"
      },
      "outputs": [
        {
          "name": "stdout",
          "output_type": "stream",
          "text": [
            "variance salary of organisation A is: 444.8055555555555\n",
            "variance salary of organisation b is: 445514.4081632653\n"
          ]
        },
        {
          "name": "stderr",
          "output_type": "stream",
          "text": [
            "/usr/local/lib/python3.6/dist-packages/ipykernel_launcher.py:2: DeprecationWarning: scipy.var is deprecated and will be removed in SciPy 2.0.0, use numpy.var instead\n",
            "  \n",
            "/usr/local/lib/python3.6/dist-packages/ipykernel_launcher.py:3: DeprecationWarning: scipy.var is deprecated and will be removed in SciPy 2.0.0, use numpy.var instead\n",
            "  This is separate from the ipykernel package so we can avoid doing imports until\n"
          ]
        }
      ],
      "source": [
        "# Variance\n",
        "print(\"variance salary of organisation A is:\", sp.var(org_a))\n",
        "print(\"variance salary of organisation b is:\", sp.var(org_b))"
      ]
    },
    {
      "cell_type": "code",
      "execution_count": null,
      "metadata": {
        "colab": {
          "base_uri": "https://localhost:8080/",
          "height": 54
        },
        "id": "rkT3vW-kSMd6",
        "outputId": "aa5853d2-5ff2-4e2c-954a-b3a882f3a225"
      },
      "outputs": [
        {
          "name": "stdout",
          "output_type": "stream",
          "text": [
            "range salary of organisation A is: [60]\n",
            "range salary of organisation b is: [1944]\n"
          ]
        }
      ],
      "source": [
        "# Range\n",
        "print(\"range salary of organisation A is:\", [np.max(org_a) - np.min(org_a)])\n",
        "print(\"range salary of organisation b is:\", [np.max(org_b) - np.min(org_b)])"
      ]
    },
    {
      "cell_type": "code",
      "execution_count": null,
      "metadata": {
        "colab": {
          "base_uri": "https://localhost:8080/",
          "height": 54
        },
        "id": "0-4jlvP2Sb6j",
        "outputId": "fa0be651-c437-4e0a-828d-2aa7bb06e7c9"
      },
      "outputs": [
        {
          "name": "stdout",
          "output_type": "stream",
          "text": [
            "Skewness salary of organisation A is: -0.10998236916186435\n",
            "Skewness salary of organisation b is: 2.0354714014226163\n"
          ]
        }
      ],
      "source": [
        "# Skewness\n",
        "print(\"Skewness salary of organisation A is:\", stats.skew(org_a))\n",
        "print(\"Skewness salary of organisation b is:\", stats.skew(org_b))"
      ]
    },
    {
      "cell_type": "code",
      "execution_count": null,
      "metadata": {
        "colab": {
          "base_uri": "https://localhost:8080/",
          "height": 54
        },
        "id": "Lldj2EQXSvLI",
        "outputId": "27355521-fd6e-4cdb-c95c-4a49a371a463"
      },
      "outputs": [
        {
          "name": "stdout",
          "output_type": "stream",
          "text": [
            "kurtosis salary of organisation A is: -1.3542502072090465\n",
            "kurtosis salary of organisation b is: 2.154123696876061\n"
          ]
        }
      ],
      "source": [
        "# Kurtosis\n",
        "print(\"kurtosis salary of organisation A is:\", stats.kurtosis(org_a))\n",
        "print(\"kurtosis salary of organisation b is:\", stats.kurtosis(org_b))"
      ]
    },
    {
      "cell_type": "markdown",
      "metadata": {
        "id": "fyUj2ArJUEFX"
      },
      "source": [
        "# Hypothesis testing"
      ]
    },
    {
      "cell_type": "markdown",
      "metadata": {
        "id": "H11UQA9e3KAT"
      },
      "source": [
        "# What is hypothesis testing ?\n",
        "\n",
        "* Hypothesis testing is a statistical method that is used in making statistical decisions using experimental data. Hypothesis Testing is basically an assumption that we make about the population parameter.\n",
        "\n",
        "* Ex : you say avg student in class is 40 or a boy is taller than girls.\n",
        "\n",
        "* all those example we assume need some statistic way to prove those. we need some mathematical conclusion what ever we are assuming is true."
      ]
    },
    {
      "cell_type": "markdown",
      "metadata": {
        "id": "Kzj9MzXZ3XUw"
      },
      "source": [
        "# why do we use it ?\n",
        "\n",
        "* Hypothesis testing is an essential procedure in statistics. A hypothesis test evaluates two mutually exclusive statements about a population to determine which statement is best supported by the sample data. When we say that a finding is statistically significant, it’s thanks to a hypothesis test."
      ]
    },
    {
      "cell_type": "markdown",
      "metadata": {
        "id": "c8pg5zoV3gQJ"
      },
      "source": [
        "#  what are basic of hypothesis ?\n",
        "* The basic of hypothesis is normalisation and standard normalisation. all our hypothesis is revolve around basic of these 2 terms.\n",
        "* `Null hypothesis` :- In inferential statistics, the null hypothesis is a general statement or default position that there is no relationship between two measured phenomena, or no association among groups\n",
        "\n",
        "* In other words it is a basic assumption or made based on domain or problem knowledge.\n",
        "\n",
        "* Example : a company production is = 50 unit/per day etc.\n",
        "\n",
        "\n",
        "* `Alternative hypothesis` :-\n",
        "\n",
        "* The alternative hypothesis is the hypothesis used in hypothesis testing that is contrary to the null hypothesis. It is usually taken to be that the observations are the result of a real effect (with some amount of chance variation superposed)\n",
        "\n",
        "* Example : a company production is !=50 unit/per day etc."
      ]
    },
    {
      "cell_type": "markdown",
      "metadata": {
        "id": "q5n_hexO368e"
      },
      "source": [
        "* `Level of significance`: Refers to the degree of significance in which we accept or reject the null-hypothesis. 100% accuracy is not possible for accepting or rejecting a hypothesis, so we therefore select a level of significance that is usually 5%.\n",
        "\n",
        "* This is normally denoted with alpha(maths symbol ) and generally it is 0.05 or 5% , which means your output should be 95% confident to give similar kind of result in each sample.\n",
        "\n",
        "* `Type I error`: When we reject the null hypothesis, although that hypothesis was true. Type I error is denoted by alpha. In hypothesis testing, the normal curve that shows the critical region is called the alpha region\n",
        "\n",
        "* `Type II errors`: When we accept the null hypothesis but it is false. Type II errors are denoted by beta. In Hypothesis testing, the normal curve that shows the acceptance region is called the beta region."
      ]
    },
    {
      "cell_type": "markdown",
      "metadata": {
        "id": "StFGwPER4Kxx"
      },
      "source": [
        "* `One tailed test` :- A test of a statistical hypothesis , where the region of rejection is on only one side of the sampling distribution , is called a one-tailed test.\n",
        "\n",
        "* Example :- a college has ≥ 4000 student or data science ≤ 80% org adopted.\n",
        "\n",
        "* `Two-tailed test` :- A two-tailed test is a statistical test in which the critical area of a distribution is two-sided and tests whether a sample is greater than or less than a certain range of values. If the sample being tested falls into either of the critical areas, the alternative hypothesis is accepted instead of the null hypothesis.\n",
        "\n",
        "* Example : a college != 4000 student or data science != 80% org adopted\n",
        "\n",
        "* `P-value` :- The P value, or calculated probability, is the probability of finding the observed, or more extreme, results when the null hypothesis (H 0) of a study question is true — the definition of ‘extreme’ depends on how the hypothesis is being tested.\n",
        "\n",
        "* If your P value is less than the chosen significance level then you reject the null hypothesis i.e. accept that your sample gives reasonable evidence to support the alternative hypothesis. It does NOT imply a “meaningful” or “important” difference; that is for you to decide when considering the real-world relevance of your result.\n",
        "\n",
        "* `Degree of freedom` :- Now imagine you’re not into hats. You’re into data analysis.You have a data set with 10 values. If you’re not estimating anything, each value can take on any number, right? Each value is completely free to vary.But suppose you want to test the population mean with a sample of 10 values, using a 1-sample t test. You now have a constraint — the estimation of the mean. What is that constraint, exactly? By definition of the mean, the following relationship must hold: The sum of all values in the data must equal n x mean, where n is the number of values in the data set.\n",
        "\n",
        "* So if a data set has 10 values, the sum of the 10 values must equal the mean x 10. If the mean of the 10 values is 3.5 (you could pick any number), this constraint requires that the sum of the 10 values must equal 10 x 3.5 = 35.\n",
        "\n",
        "* With that constraint, the first value in the data set is free to vary. Whatever value it is, it’s still possible for the sum of all 10 numbers to have a value of 35. The second value is also free to vary, because whatever value you choose, it still allows for the possibility that the sum of all the values is 35."
      ]
    },
    {
      "cell_type": "code",
      "execution_count": null,
      "metadata": {
        "colab": {
          "base_uri": "https://localhost:8080/",
          "height": 36
        },
        "id": "5z6MkNanTdhX",
        "outputId": "2c60d312-4f00-4ee0-fe4a-54a08ca5985f"
      },
      "outputs": [
        {
          "data": {
            "application/vnd.google.colaboratory.intrinsic+json": {
              "type": "string"
            },
            "text/plain": [
              "'\\nH0: Marriage age in India is 30.\\nHa: Marriage age in India is not 30\\nHere 30 is the hypothesised mean\\n'"
            ]
          },
          "execution_count": 63,
          "metadata": {
            "tags": []
          },
          "output_type": "execute_result"
        }
      ],
      "source": [
        "'''\n",
        "H0: Marriage age in India is 30.\n",
        "Ha: Marriage age in India is not 30\n",
        "Here 30 is the hypothesised mean\n",
        "'''"
      ]
    },
    {
      "cell_type": "code",
      "execution_count": null,
      "metadata": {
        "id": "bsyIzGDHTdf0"
      },
      "outputs": [],
      "source": [
        "mar_age_ind = [32,24,31,35,32,34,29,29,32,36,32,33]"
      ]
    },
    {
      "cell_type": "code",
      "execution_count": null,
      "metadata": {
        "colab": {
          "base_uri": "https://localhost:8080/",
          "height": 35
        },
        "id": "tF_xXwL8TddP",
        "outputId": "a6166401-adcf-481c-80b9-105b4605a4a8"
      },
      "outputs": [
        {
          "data": {
            "text/plain": [
              "Ttest_1sampResult(statistic=1.727272727272726, pvalue=0.11205291694809283)"
            ]
          },
          "execution_count": 65,
          "metadata": {
            "tags": []
          },
          "output_type": "execute_result"
        }
      ],
      "source": [
        "# 1 sample T test: compare one sample distribution with a hypotheised mean\n",
        "stats.ttest_1samp(mar_age_ind, 30)"
      ]
    },
    {
      "cell_type": "markdown",
      "metadata": {
        "id": "YngGKBDtUY-I"
      },
      "source": [
        "* P high than 0.05\n",
        "* p high null fly: fail to reject null hypothesis"
      ]
    },
    {
      "cell_type": "markdown",
      "metadata": {
        "id": "vy8YkIWVX1vA"
      },
      "source": [
        "# 2 sample independent T test"
      ]
    },
    {
      "cell_type": "code",
      "execution_count": null,
      "metadata": {
        "colab": {
          "base_uri": "https://localhost:8080/",
          "height": 91
        },
        "id": "MzBxnsCKTdaR",
        "outputId": "20ed0dc1-6c8e-4ead-bd01-8a5fdb90a32e"
      },
      "outputs": [
        {
          "data": {
            "text/plain": [
              "(-0.9711544284951956,\n",
              " 0.39415228261789487,\n",
              " 0.8541314693651518,\n",
              " -0.12931490845970073)"
            ]
          },
          "execution_count": 66,
          "metadata": {
            "tags": []
          },
          "output_type": "execute_result"
        }
      ],
      "source": [
        "mar_age_ind = [32,24,31,35,32,34,29,29,32,36,32,33]\n",
        "mar_age_us = [37,34,41,45,32,38,29,34,32,36,38,37]\n",
        "\n",
        "stats.skew(mar_age_ind), stats.skew(mar_age_us), stats.kurtosis(mar_age_ind), stats.kurtosis(mar_age_us)"
      ]
    },
    {
      "cell_type": "code",
      "execution_count": null,
      "metadata": {
        "colab": {
          "base_uri": "https://localhost:8080/",
          "height": 36
        },
        "id": "vx2NGlu2TdXT",
        "outputId": "29ace2ce-2e17-4a44-b2d7-58da3dfe2387"
      },
      "outputs": [
        {
          "data": {
            "application/vnd.google.colaboratory.intrinsic+json": {
              "type": "string"
            },
            "text/plain": [
              "'\\nH0: The marraige age of male in India and Us are same.\\nHa: The marraige age of male in India and Us are NOT same.\\n'"
            ]
          },
          "execution_count": 67,
          "metadata": {
            "tags": []
          },
          "output_type": "execute_result"
        }
      ],
      "source": [
        "'''\n",
        "H0: The marraige age of male in India and Us are same.\n",
        "Ha: The marraige age of male in India and Us are NOT same.\n",
        "'''"
      ]
    },
    {
      "cell_type": "code",
      "execution_count": null,
      "metadata": {
        "colab": {
          "base_uri": "https://localhost:8080/",
          "height": 35
        },
        "id": "r7ocOsYsYed6",
        "outputId": "840824d5-12d3-4fff-cc31-9cf26efb0d8c"
      },
      "outputs": [
        {
          "data": {
            "text/plain": [
              "Ttest_indResult(statistic=-2.909179358214029, pvalue=0.008132168350769683)"
            ]
          },
          "execution_count": 68,
          "metadata": {
            "tags": []
          },
          "output_type": "execute_result"
        }
      ],
      "source": [
        "stats.ttest_ind(mar_age_ind, mar_age_us)"
      ]
    },
    {
      "cell_type": "markdown",
      "metadata": {
        "id": "f-xjG9a_YojR"
      },
      "source": [
        "* p value is less than 0.05,\n",
        "* p low null go: reject Null Hypothesis\n",
        "So The marraige age of us and India re not same.\n",
        "* T value is negative so the marraige age of male in India is statistically less then marraige age of male in US."
      ]
    },
    {
      "cell_type": "markdown",
      "metadata": {
        "id": "O2aH_kjtZRtL"
      },
      "source": [
        "# 2 sample relational T test"
      ]
    },
    {
      "cell_type": "code",
      "execution_count": null,
      "metadata": {
        "id": "X7oPUqEUZxNJ"
      },
      "outputs": [],
      "source": [
        "before_rb= [45,53,66,42,57]\n",
        "after_rb= [35,43,58,35,47]"
      ]
    },
    {
      "cell_type": "code",
      "execution_count": null,
      "metadata": {
        "colab": {
          "base_uri": "https://localhost:8080/",
          "height": 36
        },
        "id": "xtoW3JxlYlY4",
        "outputId": "a1f323c6-3de1-423a-902a-28ba038b4938"
      },
      "outputs": [
        {
          "data": {
            "application/vnd.google.colaboratory.intrinsic+json": {
              "type": "string"
            },
            "text/plain": [
              "'\\nH0: There is no difference between the before and after red bull.\\nHa: Ther is a difference between before and after the red bull.\\n'"
            ]
          },
          "execution_count": 70,
          "metadata": {
            "tags": []
          },
          "output_type": "execute_result"
        }
      ],
      "source": [
        "'''\n",
        "H0: There is no difference between the before and after red bull.\n",
        "Ha: Ther is a difference between before and after the red bull.\n",
        "'''"
      ]
    },
    {
      "cell_type": "code",
      "execution_count": null,
      "metadata": {
        "colab": {
          "base_uri": "https://localhost:8080/",
          "height": 91
        },
        "id": "Igkd-HCDaLWi",
        "outputId": "239c9d71-38ab-44d6-816a-843bcce008a6"
      },
      "outputs": [
        {
          "data": {
            "text/plain": [
              "(0.27150458224994756,\n",
              " 0.5570613144738874,\n",
              " -1.218102095362407,\n",
              " -0.9948915659219391)"
            ]
          },
          "execution_count": 71,
          "metadata": {
            "tags": []
          },
          "output_type": "execute_result"
        }
      ],
      "source": [
        "stats.skew(before_rb), stats.skew(after_rb), stats.kurtosis(before_rb), stats.kurtosis(after_rb)"
      ]
    },
    {
      "cell_type": "code",
      "execution_count": null,
      "metadata": {
        "colab": {
          "base_uri": "https://localhost:8080/",
          "height": 35
        },
        "id": "poDOi_xracb1",
        "outputId": "fd1f4217-ae32-4100-a322-36f1a4d47ffa"
      },
      "outputs": [
        {
          "data": {
            "text/plain": [
              "Ttest_relResult(statistic=14.230249470757707, pvalue=0.000141624059843982)"
            ]
          },
          "execution_count": 72,
          "metadata": {
            "tags": []
          },
          "output_type": "execute_result"
        }
      ],
      "source": [
        "stats.ttest_rel(before_rb, after_rb)"
      ]
    },
    {
      "cell_type": "markdown",
      "metadata": {
        "id": "aPz6jhBZasPO"
      },
      "source": [
        "* p value is less than 0.05,\n",
        "* p low null go: reject Null Hypothesis\n",
        "so there is a difference between before and after red bull\n",
        "* T value is negative so the effect of redbull after consuming it is having more effect than before consuming."
      ]
    },
    {
      "cell_type": "code",
      "execution_count": null,
      "metadata": {
        "colab": {
          "base_uri": "https://localhost:8080/",
          "height": 92
        },
        "id": "Kj00qFAMany9",
        "outputId": "38fcee74-d500-4041-f1c2-b6825ad94ee8"
      },
      "outputs": [
        {
          "data": {
            "application/vnd.google.colaboratory.intrinsic+json": {
              "type": "string"
            },
            "text/plain": [
              "\"\\n# Hypothesis testing: comparing two groups\\nfrom scipy import stats\\n\\n#1-sample t-test: testing the value of a population mean\\nstats.ttest_1samp(data['VIQ'], 0)\\n\\n#2-sample t-test: testing for difference across populations\\nfemale_viq = data[data['Gender'] == 'Female']['VIQ']\\nmale_viq = data[data['Gender'] == 'Male']['VIQ']\\nstats.ttest_ind(female_viq, male_viq) \\n\\n# Paired tests: repeated measurements on the same individuals\\nstats.ttest_rel(data['FSIQ'], data['PIQ'])\\n\""
            ]
          },
          "execution_count": 73,
          "metadata": {
            "tags": []
          },
          "output_type": "execute_result"
        }
      ],
      "source": [
        "'''\n",
        "# Hypothesis testing: comparing two groups\n",
        "from scipy import stats\n",
        "\n",
        "#1-sample t-test: testing the value of a population mean\n",
        "stats.ttest_1samp(data['VIQ'], 0)\n",
        "\n",
        "#2-sample t-test: testing for difference across populations\n",
        "female_viq = data[data['Gender'] == 'Female']['VIQ']\n",
        "male_viq = data[data['Gender'] == 'Male']['VIQ']\n",
        "stats.ttest_ind(female_viq, male_viq)\n",
        "\n",
        "# Paired tests: repeated measurements on the same individuals\n",
        "stats.ttest_rel(data['FSIQ'], data['PIQ'])\n",
        "'''"
      ]
    },
    {
      "cell_type": "markdown",
      "metadata": {
        "id": "6HKsJSf4xSRc"
      },
      "source": [
        "# 1. Normality Tests\n",
        "\n",
        "    Shapiro-Wilk Test\n",
        "    D’Agostino’s K^2 Test\n",
        "    Anderson-Darling Test\n",
        "\n"
      ]
    },
    {
      "cell_type": "markdown",
      "metadata": {
        "id": "giJOw3xcwjGw"
      },
      "source": [
        "# 1.1) Shapiro-Wilk Test\n",
        "\n",
        "    H0: the sample has a Gaussian distribution.\n",
        "    H1: the sample does not have a Gaussian distribution.\n"
      ]
    },
    {
      "cell_type": "code",
      "execution_count": null,
      "metadata": {
        "colab": {
          "base_uri": "https://localhost:8080/",
          "height": 54
        },
        "id": "jjhR2qXTwJpg",
        "outputId": "eed239ef-5428-48d3-af7f-5454ca5baf34"
      },
      "outputs": [
        {
          "name": "stdout",
          "output_type": "stream",
          "text": [
            "stat=0.895, p=0.193\n",
            "Probably Gaussian\n"
          ]
        }
      ],
      "source": [
        "# Example of the Shapiro-Wilk Normality Test\n",
        "from scipy.stats import shapiro\n",
        "data = [0.873, 2.817, 0.121, -0.945, -0.055, -1.436, 0.360, -1.478, -1.637, -1.869]\n",
        "stat, p = shapiro(data)\n",
        "print('stat=%.3f, p=%.3f' % (stat, p))\n",
        "if p > 0.05:\n",
        "\tprint('Probably Gaussian')\n",
        "else:\n",
        "\tprint('Probably not Gaussian')"
      ]
    },
    {
      "cell_type": "markdown",
      "metadata": {
        "id": "RJXcpiyJwxj_"
      },
      "source": [
        "# 1.2) D’Agostino’s K^2 Test\n",
        "    H0: the sample has a Gaussian distribution.\n",
        "    H1: the sample does not have a Gaussian distribution.\n"
      ]
    },
    {
      "cell_type": "code",
      "execution_count": null,
      "metadata": {
        "colab": {
          "base_uri": "https://localhost:8080/",
          "height": 91
        },
        "id": "3A4K3toYwygT",
        "outputId": "f00598d8-feff-4933-d3d5-380537709b94"
      },
      "outputs": [
        {
          "name": "stdout",
          "output_type": "stream",
          "text": [
            "stat=3.392, p=0.183\n",
            "Probably Gaussian\n"
          ]
        },
        {
          "name": "stderr",
          "output_type": "stream",
          "text": [
            "/usr/local/lib/python3.6/dist-packages/scipy/stats/stats.py:1535: UserWarning: kurtosistest only valid for n>=20 ... continuing anyway, n=10\n",
            "  \"anyway, n=%i\" % int(n))\n"
          ]
        }
      ],
      "source": [
        "# Example of the D'Agostino's K^2 Normality Test\n",
        "from scipy.stats import normaltest\n",
        "data = [0.873, 2.817, 0.121, -0.945, -0.055, -1.436, 0.360, -1.478, -1.637, -1.869]\n",
        "stat, p = normaltest(data)\n",
        "print('stat=%.3f, p=%.3f' % (stat, p))\n",
        "if p > 0.05:\n",
        "\tprint('Probably Gaussian')\n",
        "else:\n",
        "\tprint('Probably not Gaussian')"
      ]
    },
    {
      "cell_type": "markdown",
      "metadata": {
        "id": "TmTFeiynw4mI"
      },
      "source": [
        "# 1.3) Anderson-Darling Test\n",
        "\n",
        "\n",
        "    H0: the sample has a Gaussian distribution.\n",
        "    H1: the sample does not have a Gaussian distribution.\n"
      ]
    },
    {
      "cell_type": "code",
      "execution_count": null,
      "metadata": {
        "colab": {
          "base_uri": "https://localhost:8080/",
          "height": 128
        },
        "id": "yo9NcQeFw5_x",
        "outputId": "578a933e-6fbc-488a-b37e-7c5d53985327"
      },
      "outputs": [
        {
          "name": "stdout",
          "output_type": "stream",
          "text": [
            "stat=0.424\n",
            "Probably Gaussian at the 15.0% level\n",
            "Probably Gaussian at the 10.0% level\n",
            "Probably Gaussian at the 5.0% level\n",
            "Probably Gaussian at the 2.5% level\n",
            "Probably Gaussian at the 1.0% level\n"
          ]
        }
      ],
      "source": [
        "# Example of the Anderson-Darling Normality Test\n",
        "from scipy.stats import anderson\n",
        "data = [0.873, 2.817, 0.121, -0.945, -0.055, -1.436, 0.360, -1.478, -1.637, -1.869]\n",
        "result = anderson(data)\n",
        "print('stat=%.3f' % (result.statistic))\n",
        "for i in range(len(result.critical_values)):\n",
        "\tsl, cv = result.significance_level[i], result.critical_values[i]\n",
        "\tif result.statistic < cv:\n",
        "\t\tprint('Probably Gaussian at the %.1f%% level' % (sl))\n",
        "\telse:\n",
        "\t\tprint('Probably not Gaussian at the %.1f%% level' % (sl))"
      ]
    },
    {
      "cell_type": "markdown",
      "metadata": {
        "id": "w7QmnOHUxYSF"
      },
      "source": [
        "# 2. Correlation Tests\n",
        "\n",
        "    Pearson’s Correlation Coefficient\n",
        "    Spearman’s Rank Correlation\n",
        "    Kendall’s Rank Correlation\n",
        "    Chi-Squared Test\n",
        "\n"
      ]
    },
    {
      "cell_type": "markdown",
      "metadata": {
        "id": "5P1933eVxe-z"
      },
      "source": [
        "# 2.1) Pearson’s Correlation Coefficient\n",
        "Assumptions\n",
        "\n",
        "    Observations in each sample are independent and identically distributed (iid).\n",
        "    Observations in each sample are normally distributed.\n",
        "    Observations in each sample have the same variance.\n",
        "\n",
        "Interpretation\n",
        "\n",
        "    H0: the two samples are independent.\n",
        "    H1: there is a dependency between the samples.\n"
      ]
    },
    {
      "cell_type": "code",
      "execution_count": null,
      "metadata": {
        "colab": {
          "base_uri": "https://localhost:8080/",
          "height": 54
        },
        "id": "qrEfjuTgw-Uc",
        "outputId": "6ce8ecf5-8986-4d57-e2af-9b3edacd93f9"
      },
      "outputs": [
        {
          "name": "stdout",
          "output_type": "stream",
          "text": [
            "stat=0.688, p=0.028\n",
            "Probably dependent\n"
          ]
        }
      ],
      "source": [
        "# Example of the Pearson's Correlation test\n",
        "from scipy.stats import pearsonr\n",
        "data1 = [0.873, 2.817, 0.121, -0.945, -0.055, -1.436, 0.360, -1.478, -1.637, -1.869]\n",
        "data2 = [0.353, 3.517, 0.125, -7.545, -0.555, -1.536, 3.350, -1.578, -3.537, -1.579]\n",
        "stat, p = pearsonr(data1, data2)\n",
        "print('stat=%.3f, p=%.3f' % (stat, p))\n",
        "if p > 0.05:\n",
        "\tprint('Probably independent')\n",
        "else:\n",
        "\tprint('Probably dependent')"
      ]
    },
    {
      "cell_type": "markdown",
      "metadata": {
        "id": "Oa2lNsEIxn76"
      },
      "source": [
        "# 2.2) Spearman’s Rank Correlation\n",
        "Assumptions\n",
        "\n",
        "    Observations in each sample are independent and identically distributed (iid).\n",
        "    Observations in each sample can be ranked.\n",
        "\n",
        "Interpretation\n",
        "\n",
        "    H0: the two samples are independent.\n",
        "    H1: there is a dependency between the samples.\n"
      ]
    },
    {
      "cell_type": "code",
      "execution_count": null,
      "metadata": {
        "colab": {
          "base_uri": "https://localhost:8080/",
          "height": 54
        },
        "id": "1O0ZA3IqxkJD",
        "outputId": "8056f21e-02d1-48e2-c559-94cf4b6de224"
      },
      "outputs": [
        {
          "name": "stdout",
          "output_type": "stream",
          "text": [
            "stat=0.855, p=0.002\n",
            "Probably dependent\n"
          ]
        }
      ],
      "source": [
        "# Example of the Spearman's Rank Correlation Test\n",
        "from scipy.stats import spearmanr\n",
        "data1 = [0.873, 2.817, 0.121, -0.945, -0.055, -1.436, 0.360, -1.478, -1.637, -1.869]\n",
        "data2 = [0.353, 3.517, 0.125, -7.545, -0.555, -1.536, 3.350, -1.578, -3.537, -1.579]\n",
        "stat, p = spearmanr(data1, data2)\n",
        "print('stat=%.3f, p=%.3f' % (stat, p))\n",
        "if p > 0.05:\n",
        "\tprint('Probably independent')\n",
        "else:\n",
        "\tprint('Probably dependent')"
      ]
    },
    {
      "cell_type": "markdown",
      "metadata": {
        "id": "PrM2H2qox5iJ"
      },
      "source": [
        "# 2.3) Kendall’s Rank Correlation\n",
        "Assumptions\n",
        "\n",
        "    Observations in each sample are independent and identically distributed (iid).\n",
        "    Observations in each sample can be ranked.\n",
        "\n",
        "Interpretation\n",
        "\n",
        "    H0: the two samples are independent.\n",
        "    H1: there is a dependency between the samples.\n"
      ]
    },
    {
      "cell_type": "code",
      "execution_count": null,
      "metadata": {
        "colab": {
          "base_uri": "https://localhost:8080/",
          "height": 54
        },
        "id": "7v5U46mvx2Cs",
        "outputId": "0ccaefab-ce92-40c0-da1c-db33f411a7e2"
      },
      "outputs": [
        {
          "name": "stdout",
          "output_type": "stream",
          "text": [
            "stat=0.733, p=0.002\n",
            "Probably dependent\n"
          ]
        }
      ],
      "source": [
        "# Example of the Kendall's Rank Correlation Test\n",
        "from scipy.stats import kendalltau\n",
        "data1 = [0.873, 2.817, 0.121, -0.945, -0.055, -1.436, 0.360, -1.478, -1.637, -1.869]\n",
        "data2 = [0.353, 3.517, 0.125, -7.545, -0.555, -1.536, 3.350, -1.578, -3.537, -1.579]\n",
        "stat, p = kendalltau(data1, data2)\n",
        "print('stat=%.3f, p=%.3f' % (stat, p))\n",
        "if p > 0.05:\n",
        "\tprint('Probably independent')\n",
        "else:\n",
        "\tprint('Probably dependent')"
      ]
    },
    {
      "cell_type": "markdown",
      "metadata": {
        "id": "_1nXQlOsyDHH"
      },
      "source": [
        "# 2.4) Chi-Squared Test\n",
        "Assumptions\n",
        "\n",
        "    Observations used in the calculation of the contingency table are independent.\n",
        "    25 or more examples in each cell of the contingency table.\n",
        "\n",
        "Interpretation\n",
        "\n",
        "    H0: the two samples are independent.\n",
        "    H1: there is a dependency between the samples.\n"
      ]
    },
    {
      "cell_type": "code",
      "execution_count": null,
      "metadata": {
        "colab": {
          "base_uri": "https://localhost:8080/",
          "height": 54
        },
        "id": "SQ2WdfrTx_1S",
        "outputId": "8c9e341c-4eaa-4b47-d90c-7cb738a7ee61"
      },
      "outputs": [
        {
          "name": "stdout",
          "output_type": "stream",
          "text": [
            "stat=0.272, p=0.873\n",
            "Probably independent\n"
          ]
        }
      ],
      "source": [
        "# Example of the Chi-Squared Test\n",
        "from scipy.stats import chi2_contingency\n",
        "table = [[10, 20, 30],[6,  9,  17]]\n",
        "stat, p, dof, expected = chi2_contingency(table)\n",
        "print('stat=%.3f, p=%.3f' % (stat, p))\n",
        "if p > 0.05:\n",
        "\tprint('Probably independent')\n",
        "else:\n",
        "\tprint('Probably dependent')"
      ]
    },
    {
      "cell_type": "markdown",
      "metadata": {
        "id": "5eLYhJV_yxmc"
      },
      "source": [
        "# 3) Stationary Tests\n",
        "\n",
        "    Augmented Dickey-Fuller\n",
        "    Kwiatkowski-Phillips-Schmidt-Shin\n",
        "\n"
      ]
    },
    {
      "cell_type": "markdown",
      "metadata": {
        "id": "OLNJcL7TzELj"
      },
      "source": [
        "# 3.1) Augmented Dickey-Fuller Unit Root Test\n",
        "Assumptions\n",
        "\n",
        "    Observations in are temporally ordered.\n",
        "\n",
        "Interpretation\n",
        "\n",
        "    H0: a unit root is present (series is non-stationary).\n",
        "    H1: a unit root is not present (series is stationary).\n"
      ]
    },
    {
      "cell_type": "code",
      "execution_count": null,
      "metadata": {
        "colab": {
          "base_uri": "https://localhost:8080/",
          "height": 111
        },
        "id": "lAQvPMjczJxa",
        "outputId": "0841ea24-1f24-4aa0-8018-5fb9db5f3d55"
      },
      "outputs": [
        {
          "name": "stderr",
          "output_type": "stream",
          "text": [
            "/usr/local/lib/python3.6/dist-packages/statsmodels/tools/_testing.py:19: FutureWarning: pandas.util.testing is deprecated. Use the functions in the public API at pandas.testing instead.\n",
            "  import pandas.util.testing as tm\n"
          ]
        },
        {
          "name": "stdout",
          "output_type": "stream",
          "text": [
            "stat=0.517, p=0.985\n",
            "Probably not Stationary\n"
          ]
        }
      ],
      "source": [
        "# Example of the Augmented Dickey-Fuller unit root test\n",
        "from statsmodels.tsa.stattools import adfuller\n",
        "data = [0, 1, 2, 3, 4, 5, 6, 7, 8, 9]\n",
        "stat, p, lags, obs, crit, t = adfuller(data)\n",
        "print('stat=%.3f, p=%.3f' % (stat, p))\n",
        "if p > 0.05:\n",
        "\tprint('Probably not Stationary')\n",
        "else:\n",
        "\tprint('Probably Stationary')"
      ]
    },
    {
      "cell_type": "markdown",
      "metadata": {
        "id": "S9QrGgM6zNIp"
      },
      "source": [
        "# 3.2) Kwiatkowski-Phillips-Schmidt-Shin(KPSS Test)\n",
        "Assumptions\n",
        "\n",
        "    Observations in are temporally ordered.\n",
        "\n",
        "Interpretation\n",
        "\n",
        "    H0: the time series is not trend-stationary.\n",
        "    H1: the time series is trend-stationary.\n"
      ]
    },
    {
      "cell_type": "code",
      "execution_count": null,
      "metadata": {
        "colab": {
          "base_uri": "https://localhost:8080/",
          "height": 111
        },
        "id": "GS8rpA5uzVj8",
        "outputId": "caec2c05-6e06-4d31-b1b4-7f6ce01dc886"
      },
      "outputs": [
        {
          "name": "stdout",
          "output_type": "stream",
          "text": [
            "stat=0.410, p=0.073\n",
            "Probably not Stationary\n"
          ]
        },
        {
          "name": "stderr",
          "output_type": "stream",
          "text": [
            "/usr/local/lib/python3.6/dist-packages/statsmodels/tsa/stattools.py:1685: FutureWarning: The behavior of using lags=None will change in the next release. Currently lags=None is the same as lags='legacy', and so a sample-size lag length is used. After the next release, the default will change to be the same as lags='auto' which uses an automatic lag length selection method. To silence this warning, either use 'auto' or 'legacy'\n",
            "  warn(msg, FutureWarning)\n"
          ]
        }
      ],
      "source": [
        "# Example of the Kwiatkowski-Phillips-Schmidt-Shin test\n",
        "from statsmodels.tsa.stattools import kpss\n",
        "data = [0, 1, 2, 3, 4, 5, 6, 7, 8, 9]\n",
        "stat, p, lags, crit = kpss(data)\n",
        "print('stat=%.3f, p=%.3f' % (stat, p))\n",
        "if p > 0.05:\n",
        "\tprint('Probably not Stationary')\n",
        "else:\n",
        "\tprint('Probably Stationary')"
      ]
    },
    {
      "cell_type": "markdown",
      "metadata": {
        "id": "m9lHY8t_y9BD"
      },
      "source": [
        "# 4) Parametric Statistical Hypothesis Tests\n",
        "\n",
        "    Student’s t-test\n",
        "    Paired Student’s t-test\n",
        "    Analysis of Variance Test (ANOVA)\n",
        "    Repeated Measures ANOVA Test\n",
        "\n"
      ]
    },
    {
      "cell_type": "markdown",
      "metadata": {
        "id": "Wp5_JfMQzo-Q"
      },
      "source": [
        "# 4.1) Student’s t-test\n",
        "Assumptions\n",
        "\n",
        "    Observations in each sample are independent and identically distributed (iid).\n",
        "    Observations in each sample are normally distributed.\n",
        "    Observations in each sample have the same variance.\n",
        "\n",
        "Interpretation\n",
        "\n",
        "    H0: the means of the samples are equal.\n",
        "    H1: the means of the samples are unequal.\n"
      ]
    },
    {
      "cell_type": "code",
      "execution_count": null,
      "metadata": {
        "colab": {
          "base_uri": "https://localhost:8080/",
          "height": 54
        },
        "id": "xTIJvlSEzuUH",
        "outputId": "51be64f9-6061-42c2-e189-64a3a12798cd"
      },
      "outputs": [
        {
          "name": "stdout",
          "output_type": "stream",
          "text": [
            "stat=-0.326, p=0.748\n",
            "Probably the same distribution\n"
          ]
        }
      ],
      "source": [
        "# Example of the Student's t-test\n",
        "from scipy.stats import ttest_ind\n",
        "data1 = [0.873, 2.817, 0.121, -0.945, -0.055, -1.436, 0.360, -1.478, -1.637, -1.869]\n",
        "data2 = [1.142, -0.432, -0.938, -0.729, -0.846, -0.157, 0.500, 1.183, -1.075, -0.169]\n",
        "stat, p = ttest_ind(data1, data2)\n",
        "print('stat=%.3f, p=%.3f' % (stat, p))\n",
        "if p > 0.05:\n",
        "\tprint('Probably the same distribution')\n",
        "else:\n",
        "\tprint('Probably different distributions')"
      ]
    },
    {
      "cell_type": "markdown",
      "source": [
        "## p = 0.0000467\n",
        "Level of significancce= 0.05\n",
        "\n",
        "P value is high then 0.05  Acccept the Null hypothesis\n",
        "P value is less than 0.05 Fail to accept the null hypothesis\n",
        "\n"
      ],
      "metadata": {
        "id": "YClHQqDmHmAA"
      }
    },
    {
      "cell_type": "markdown",
      "metadata": {
        "id": "hFD3w_yczy4L"
      },
      "source": [
        "# 4.2) Paired Student’s t-test\n",
        "Assumptions\n",
        "\n",
        "    Observations in each sample are independent and identically distributed (iid).\n",
        "    Observations in each sample are normally distributed.\n",
        "    Observations in each sample have the same variance.\n",
        "    Observations across each sample are paired.\n",
        "\n",
        "Interpretation\n",
        "\n",
        "    H0: the means of the samples are equal.\n",
        "    H1: the means of the samples are unequal.\n"
      ]
    },
    {
      "cell_type": "code",
      "execution_count": null,
      "metadata": {
        "colab": {
          "base_uri": "https://localhost:8080/",
          "height": 54
        },
        "id": "rRrZdEHSz3eW",
        "outputId": "7b1f72cd-a117-4d76-f55b-0c4942ca41bc"
      },
      "outputs": [
        {
          "name": "stdout",
          "output_type": "stream",
          "text": [
            "stat=-0.334, p=0.746\n",
            "Probably the same distribution\n"
          ]
        }
      ],
      "source": [
        "# Example of the Paired Student's t-test\n",
        "from scipy.stats import ttest_rel\n",
        "data1 = [0.873, 2.817, 0.121, -0.945, -0.055, -1.436, 0.360, -1.478, -1.637, -1.869]\n",
        "data2 = [1.142, -0.432, -0.938, -0.729, -0.846, -0.157, 0.500, 1.183, -1.075, -0.169]\n",
        "stat, p = ttest_rel(data1, data2)\n",
        "print('stat=%.3f, p=%.3f' % (stat, p))\n",
        "if p > 0.05:\n",
        "\tprint('Probably the same distribution')\n",
        "else:\n",
        "\tprint('Probably different distributions')"
      ]
    },
    {
      "cell_type": "markdown",
      "metadata": {
        "id": "uxgpx2HNz76v"
      },
      "source": [
        "# 4.3) Analysis of Variance Test (ANOVA)\n",
        "Assumptions\n",
        "\n",
        "    Observations in each sample are independent and identically distributed (iid).\n",
        "    Observations in each sample are normally distributed.\n",
        "    Observations in each sample have the same variance.\n",
        "\n",
        "Interpretation\n",
        "\n",
        "    H0: the means of the samples are equal.\n",
        "    H1: one or more of the means of the samples are unequal.\n"
      ]
    },
    {
      "cell_type": "code",
      "execution_count": null,
      "metadata": {
        "colab": {
          "base_uri": "https://localhost:8080/",
          "height": 54
        },
        "id": "HjUh6Dnv0ANX",
        "outputId": "f53dbfac-bee0-4958-f0ba-1d371f97d836"
      },
      "outputs": [
        {
          "name": "stdout",
          "output_type": "stream",
          "text": [
            "stat=0.096, p=0.908\n",
            "Probably the same distribution\n"
          ]
        }
      ],
      "source": [
        "# Example of the Analysis of Variance Test\n",
        "from scipy.stats import f_oneway\n",
        "data1 = [0.873, 2.817, 0.121, -0.945, -0.055, -1.436, 0.360, -1.478, -1.637, -1.869]\n",
        "data2 = [1.142, -0.432, -0.938, -0.729, -0.846, -0.157, 0.500, 1.183, -1.075, -0.169]\n",
        "data3 = [-0.208, 0.696, 0.928, -1.148, -0.213, 0.229, 0.137, 0.269, -0.870, -1.204]\n",
        "stat, p = f_oneway(data1, data2, data3)\n",
        "print('stat=%.3f, p=%.3f' % (stat, p))\n",
        "if p > 0.05:\n",
        "\tprint('Probably the same distribution')\n",
        "else:\n",
        "\tprint('Probably different distributions')"
      ]
    },
    {
      "cell_type": "markdown",
      "metadata": {
        "id": "DVJ7mUgu0F7m"
      },
      "source": [
        "# 4.4) Repeated Measures ANOVA Test(not supported in python)\n",
        "Assumptions\n",
        "\n",
        "    Observations in each sample are independent and identically distributed (iid).\n",
        "    Observations in each sample are normally distributed.\n",
        "    Observations in each sample have the same variance.\n",
        "    Observations across each sample are paired.\n",
        "\n",
        "Interpretation\n",
        "\n",
        "    H0: the means of the samples are equal.\n",
        "    H1: one or more of the means of the samples are unequal.\n"
      ]
    },
    {
      "cell_type": "markdown",
      "metadata": {
        "id": "TzK6xlJLy86G"
      },
      "source": [
        "# 5) Nonparametric Statistical Hypothesis Tests\n",
        "\n",
        "    Mann-Whitney U Test\n",
        "    Wilcoxon Signed-Rank Test\n",
        "    Kruskal-Wallis H Test\n",
        "    Friedman Test\n",
        "\n"
      ]
    },
    {
      "cell_type": "markdown",
      "metadata": {
        "id": "M6GxxAKo0X6Z"
      },
      "source": [
        "# 5.1) Mann-Whitney U Test\n",
        "Assumptions\n",
        "\n",
        "    Observations in each sample are independent and identically distributed (iid).\n",
        "    Observations in each sample can be ranked.\n",
        "\n",
        "Interpretation\n",
        "\n",
        "    H0: the distributions of both samples are equal.\n",
        "    H1: the distributions of both samples are not equal.\n"
      ]
    },
    {
      "cell_type": "code",
      "execution_count": null,
      "metadata": {
        "colab": {
          "base_uri": "https://localhost:8080/",
          "height": 54
        },
        "id": "tQcNHzyeyeD6",
        "outputId": "0c4a8dde-93b9-400b-a488-9ee0ecb4a08c"
      },
      "outputs": [
        {
          "name": "stdout",
          "output_type": "stream",
          "text": [
            "stat=40.000, p=0.236\n",
            "Probably the same distribution\n"
          ]
        }
      ],
      "source": [
        "# Example of the Mann-Whitney U Test\n",
        "from scipy.stats import mannwhitneyu\n",
        "data1 = [0.873, 2.817, 0.121, -0.945, -0.055, -1.436, 0.360, -1.478, -1.637, -1.869]\n",
        "data2 = [1.142, -0.432, -0.938, -0.729, -0.846, -0.157, 0.500, 1.183, -1.075, -0.169]\n",
        "stat, p = mannwhitneyu(data1, data2)\n",
        "print('stat=%.3f, p=%.3f' % (stat, p))\n",
        "if p > 0.05:\n",
        "\tprint('Probably the same distribution')\n",
        "else:\n",
        "\tprint('Probably different distributions')"
      ]
    },
    {
      "cell_type": "markdown",
      "metadata": {
        "id": "76ETUYGC0fDO"
      },
      "source": [
        "# 5.2) Wilcoxon Signed-Rank Test\n",
        "Assumptions\n",
        "\n",
        "    Observations in each sample are independent and identically distributed (iid).\n",
        "    Observations in each sample can be ranked.\n",
        "    Observations across each sample are paired.\n",
        "\n",
        "Interpretation\n",
        "\n",
        "    H0: the distributions of both samples are equal.\n",
        "    H1: the distributions of both samples are not equal.\n"
      ]
    },
    {
      "cell_type": "code",
      "execution_count": null,
      "metadata": {
        "colab": {
          "base_uri": "https://localhost:8080/",
          "height": 54
        },
        "id": "H0PSqB4Y0d2P",
        "outputId": "b73b66a0-dba0-4c26-c362-af5dbc6bcdd3"
      },
      "outputs": [
        {
          "name": "stdout",
          "output_type": "stream",
          "text": [
            "stat=21.000, p=0.508\n",
            "Probably the same distribution\n"
          ]
        }
      ],
      "source": [
        "# Example of the Wilcoxon Signed-Rank Test\n",
        "from scipy.stats import wilcoxon\n",
        "data1 = [0.873, 2.817, 0.121, -0.945, -0.055, -1.436, 0.360, -1.478, -1.637, -1.869]\n",
        "data2 = [1.142, -0.432, -0.938, -0.729, -0.846, -0.157, 0.500, 1.183, -1.075, -0.169]\n",
        "stat, p = wilcoxon(data1, data2)\n",
        "print('stat=%.3f, p=%.3f' % (stat, p))\n",
        "if p > 0.05:\n",
        "\tprint('Probably the same distribution')\n",
        "else:\n",
        "\tprint('Probably different distributions')"
      ]
    },
    {
      "cell_type": "markdown",
      "metadata": {
        "id": "08y2G1IG0pFv"
      },
      "source": [
        "# 5.3) Kruskal-Wallis H Test\n",
        "Assumptions\n",
        "\n",
        "    Observations in each sample are independent and identically distributed (iid).\n",
        "    Observations in each sample can be ranked.\n",
        "\n",
        "Interpretation\n",
        "\n",
        "    H0: the distributions of all samples are equal.\n",
        "    H1: the distributions of one or more samples are not equal.\n"
      ]
    },
    {
      "cell_type": "code",
      "execution_count": null,
      "metadata": {
        "colab": {
          "base_uri": "https://localhost:8080/",
          "height": 54
        },
        "id": "iV7kAVzf0mpu",
        "outputId": "ba122d5f-2f95-401e-b473-e83b217651a5"
      },
      "outputs": [
        {
          "name": "stdout",
          "output_type": "stream",
          "text": [
            "stat=0.571, p=0.450\n",
            "Probably the same distribution\n"
          ]
        }
      ],
      "source": [
        "# Example of the Kruskal-Wallis H Test\n",
        "from scipy.stats import kruskal\n",
        "data1 = [0.873, 2.817, 0.121, -0.945, -0.055, -1.436, 0.360, -1.478, -1.637, -1.869]\n",
        "data2 = [1.142, -0.432, -0.938, -0.729, -0.846, -0.157, 0.500, 1.183, -1.075, -0.169]\n",
        "stat, p = kruskal(data1, data2)\n",
        "print('stat=%.3f, p=%.3f' % (stat, p))\n",
        "if p > 0.05:\n",
        "\tprint('Probably the same distribution')\n",
        "else:\n",
        "\tprint('Probably different distributions')"
      ]
    },
    {
      "cell_type": "markdown",
      "metadata": {
        "id": "pz9TGEZA0xc-"
      },
      "source": [
        "# 5.4) Friedman Test\n",
        "Assumptions\n",
        "\n",
        "    Observations in each sample are independent and identically distributed (iid).\n",
        "    Observations in each sample can be ranked.\n",
        "    Observations across each sample are paired.\n",
        "\n",
        "Interpretation\n",
        "\n",
        "    H0: the distributions of all samples are equal.\n",
        "    H1: the distributions of one or more samples are not equal.\n"
      ]
    },
    {
      "cell_type": "code",
      "execution_count": null,
      "metadata": {
        "colab": {
          "base_uri": "https://localhost:8080/",
          "height": 54
        },
        "id": "2Mlqxuzr0uOB",
        "outputId": "0870e316-75e6-4187-be11-cab0b1b7469c"
      },
      "outputs": [
        {
          "name": "stdout",
          "output_type": "stream",
          "text": [
            "stat=0.800, p=0.670\n",
            "Probably the same distribution\n"
          ]
        }
      ],
      "source": [
        "# Example of the Friedman Test\n",
        "from scipy.stats import friedmanchisquare\n",
        "data1 = [0.873, 2.817, 0.121, -0.945, -0.055, -1.436, 0.360, -1.478, -1.637, -1.869]\n",
        "data2 = [1.142, -0.432, -0.938, -0.729, -0.846, -0.157, 0.500, 1.183, -1.075, -0.169]\n",
        "data3 = [-0.208, 0.696, 0.928, -1.148, -0.213, 0.229, 0.137, 0.269, -0.870, -1.204]\n",
        "stat, p = friedmanchisquare(data1, data2, data3)\n",
        "print('stat=%.3f, p=%.3f' % (stat, p))\n",
        "if p > 0.05:\n",
        "\tprint('Probably the same distribution')\n",
        "else:\n",
        "\tprint('Probably different distributions')"
      ]
    }
  ],
  "metadata": {
    "colab": {
      "provenance": []
    },
    "kernelspec": {
      "display_name": "Python 3",
      "language": "python",
      "name": "python3"
    },
    "language_info": {
      "codemirror_mode": {
        "name": "ipython",
        "version": 3
      },
      "file_extension": ".py",
      "mimetype": "text/x-python",
      "name": "python",
      "nbconvert_exporter": "python",
      "pygments_lexer": "ipython3",
      "version": "3.7.3"
    }
  },
  "nbformat": 4,
  "nbformat_minor": 0
}